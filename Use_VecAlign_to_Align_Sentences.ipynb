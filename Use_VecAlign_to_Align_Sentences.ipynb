{
 "cells": [
  {
   "cell_type": "markdown",
   "id": "2283b578",
   "metadata": {},
   "source": [
    "Using the Vecalign script vecalign.py (partially modified) from https://github.com/thompsonb/vecalign, the code takes as input the originary files containing the sentences, the overlap files, the files containing the embeddings. The output of the alignment is a list of indexes pairs and a float number with the compute of the alignment cost.\n",
    "\n",
    "The modification of the vecalign.py file consists in generating a .TXT file containing the output of the alignment."
   ]
  },
  {
   "cell_type": "code",
   "execution_count": null,
   "id": "baddcaf0",
   "metadata": {},
   "outputs": [],
   "source": [
    "# Use latest conda\n",
    "!conda update conda -y\n",
    "# Create conda environment\n",
    "!conda create  --force -y --name vecalign python=3.7\n",
    "# Activate new environment\n",
    "!source `conda info --base`/etc/profile.d/conda.sh # See: https://github.com/conda/conda/issues/7980\n",
    "!conda activate vecalign\n",
    "# Install required packages\n",
    "!conda install -y -c anaconda cython\n",
    "!conda install -y -c anaconda numpy\n",
    "!pip install mcerp "
   ]
  },
  {
   "cell_type": "code",
   "execution_count": null,
   "id": "69d2c19e",
   "metadata": {},
   "outputs": [],
   "source": [
    "## generate overlaps file using the eng and lat sentences in the sentences_NH folder\n",
    "!python overlap.py -i sentences_NH/engbook37 -o sentences_NH/engoverlaps37.eng -n 10\n",
    "!python overlap.py -i sentences_NH/latbook37 -o sentences_NH/latoverlaps37.lat -n 10"
   ]
  },
  {
   "cell_type": "code",
   "execution_count": null,
   "id": "8f35cfef",
   "metadata": {
    "scrolled": true
   },
   "outputs": [],
   "source": [
    "pip install sentence_transformers"
   ]
  },
  {
   "cell_type": "code",
   "execution_count": null,
   "id": "f2247d1e",
   "metadata": {},
   "outputs": [],
   "source": [
    "## import the S-BERT Python library sentence_transformer\n",
    "import sentence_transformers\n",
    "from sentence_transformers import SentenceTransformer\n",
    "model = SentenceTransformer('sentence-transformers/LaBSE')"
   ]
  },
  {
   "cell_type": "code",
   "execution_count": null,
   "id": "17ca34d2",
   "metadata": {
    "scrolled": true
   },
   "outputs": [],
   "source": [
    "for i in range(1,38):    \n",
    "    print(i)\n",
    "    \n",
    "    ## get the eng overlap file\n",
    "    path = \"/Users/u0154817/OneDrive - KU Leuven/Desktop/sentences_NH/engoverlaps\"+str(i)+'.eng'\n",
    "    with open(path, \"r\", encoding=\"utf8\") as engfile:\n",
    "        overlap_sentences_eng = []\n",
    "        for line in engfile: ## create a list of the overlap eng sentences\n",
    "            overlap_sentences_eng.append(line)\n",
    "    \n",
    "    ## get the lat overlap file\n",
    "    path = \"/Users/u0154817/OneDrive - KU Leuven/Desktop/sentences_NH/latoverlaps\"+str(i)+'.lat'\n",
    "    with open(path, \"r\", encoding=\"utf8\") as latfile:\n",
    "        overlap_sentences_lat = []\n",
    "        for line in latfile:  ## create a list of the overlap lat sentences\n",
    "            overlap_sentences_lat.append(line)\n",
    "    \n",
    "    ## generate the embeddings of the eng and lat overlap sentences\n",
    "    overlaps_embeddings_eng_LaBSE = model.encode(overlap_sentences_eng)\n",
    "    overlaps_embeddings_lat_LaBSE = model.encode(overlap_sentences_lat)\n",
    "    \n",
    "    overlaps_embeddings_eng_LaBSE.tofile('overlaps.eng.'+str(i)+'.LaBSE.emb')\n",
    "    overlaps_embeddings_lat_LaBSE.tofile('overlaps.lat.'+str(i)+'.LaBSE.emb')"
   ]
  },
  {
   "cell_type": "code",
   "execution_count": null,
   "id": "9e1fd86d",
   "metadata": {},
   "outputs": [],
   "source": [
    "## calculate the sentence similarity using the sentence files, the overlap files, and the sentence embeddings\n",
    "!python vecalign.py --alignment_max_size 8 --src sentences_NH/engbook37 --tgt sentences_NH/latbook37 \\\n",
    "   --src_embed sentences_NH/engoverlaps37.eng sentences_NH/overlaps.eng.37.LaBSE.emb  \\\n",
    "   --tgt_embed sentences_NH/latoverlaps37.lat sentences_NH/overlaps.lat.37.LaBSE.emb"
   ]
  }
 ],
 "metadata": {
  "kernelspec": {
   "display_name": "Python 3 (ipykernel)",
   "language": "python",
   "name": "python3"
  },
  "language_info": {
   "codemirror_mode": {
    "name": "ipython",
    "version": 3
   },
   "file_extension": ".py",
   "mimetype": "text/x-python",
   "name": "python",
   "nbconvert_exporter": "python",
   "pygments_lexer": "ipython3",
   "version": "3.11.5"
  }
 },
 "nbformat": 4,
 "nbformat_minor": 5
}

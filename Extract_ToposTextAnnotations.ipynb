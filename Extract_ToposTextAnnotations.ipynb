{
 "cells": [
  {
   "cell_type": "code",
   "execution_count": null,
   "id": "cfdf61d3",
   "metadata": {},
   "outputs": [],
   "source": [
    "import pandas as pd\n",
    "import re\n",
    "import csv\n",
    "from bs4 import BeautifulSoup"
   ]
  },
  {
   "cell_type": "code",
   "execution_count": null,
   "id": "a2f969b6",
   "metadata": {},
   "outputs": [],
   "source": [
    "path = \"/Users/u0154817/Documents/Data Extraction/BradyKieslingNH.html\""
   ]
  },
  {
   "cell_type": "code",
   "execution_count": null,
   "id": "2e5592a0",
   "metadata": {},
   "outputs": [],
   "source": [
    "soup = BeautifulSoup(open(path, encoding='utf-8'), 'html.parser')"
   ]
  },
  {
   "cell_type": "code",
   "execution_count": null,
   "id": "2cc04d5e",
   "metadata": {},
   "outputs": [],
   "source": [
    "html1_37 = soup.find_all('html')"
   ]
  },
  {
   "cell_type": "code",
   "execution_count": null,
   "id": "1a1cbede",
   "metadata": {},
   "outputs": [],
   "source": [
    "reference_column = []\n",
    "tagged_entity_column = []\n",
    "topostext_id_column = []"
   ]
  },
  {
   "cell_type": "code",
   "execution_count": null,
   "id": "50f08094",
   "metadata": {},
   "outputs": [],
   "source": [
    "for html in html1_37:\n",
    "    \n",
    "    paragraphs = html.find_all(\"p\")\n",
    "    \n",
    "    for paragraph in paragraphs: ## for each paragraph\n",
    "        \n",
    "        reference = paragraph.get(\"id\") ## get the ID of the paragraph (book, chapter, paragraph)\n",
    "        place_tags = paragraph.find_all('place') ## get all <place> tags in the paragraph\n",
    "    \n",
    "        for place_tag in place_tags:\n",
    "                \n",
    "            tagged_entity = place_tag.get_text() ## get the word content in the tag        \n",
    "            topostext_id = place_tag.get('id') ## extract the id\n",
    "            \n",
    "            reference_column.append(reference)\n",
    "            tagged_entity_column.append(tagged_entity)\n",
    "            topostext_id_column.append(topostext_id)            "
   ]
  },
  {
   "cell_type": "code",
   "execution_count": null,
   "id": "824a2809",
   "metadata": {},
   "outputs": [],
   "source": [
    "start_pos_column = []\n",
    "\n",
    "for html in html1_37:\n",
    "    \n",
    "    paragraphs = html.find_all(\"p\")\n",
    "    \n",
    "    for paragraph in paragraphs: ## for each paragraph\n",
    "                \n",
    "        paragraph=str(paragraph) ## convert the paragraph to a string\n",
    "        \n",
    "        clean_text = re.sub('<place[^>]*>', 'µ', paragraph) ## substitute the head of the <place> tag with the special character\n",
    "        clean_text = re.sub('</place>', '', clean_text) ## remove the </place> tag\n",
    "            \n",
    "        clean_text = re.sub('<p[^>]*>', '', clean_text) ## remove the p tag\n",
    "        clean_text = re.sub('</p>', '', clean_text)\n",
    "    \n",
    "        clean_text = re.sub('<prn[^>]*>', '', clean_text) ## remove the prn tag\n",
    "        clean_text = re.sub('</prn>', '', clean_text)\n",
    "        \n",
    "        clean_text = re.sub('<person[^>]*>', '', clean_text) ## remove the person tag\n",
    "        clean_text = re.sub('</person>', '', clean_text)\n",
    "        \n",
    "        clean_text = re.sub('<demonym[^>]*>', '', clean_text) ## remove the demonym tag\n",
    "        clean_text = re.sub('</demonym>', '', clean_text)\n",
    "    \n",
    "        clean_text = re.sub('<patnym[^>]*>', '', clean_text) ## remove the patnym tag\n",
    "        clean_text = re.sub('</patnym>', '', clean_text)\n",
    "    \n",
    "        clean_text = re.sub('<ethnic[^>]*>', '', clean_text) ## remove the ethnic tag\n",
    "        clean_text = re.sub('</ethnic>', '', clean_text)\n",
    "        \n",
    "        clean_text = re.sub('<br[^>]*>', '', clean_text) ## remove the ethnic tag\n",
    "        clean_text = re.sub('</br>', '', clean_text)\n",
    "    \n",
    "        clean_text = re.sub('<a[^>]*>', '', clean_text) ## remove the a tag\n",
    "        clean_text = re.sub('</a>', '', clean_text) ## remove the </a> tag\n",
    "        \n",
    "        list_special_char_seen = 0 ## list of the number of special characters already seen\n",
    "    \n",
    "        for i, character in enumerate(clean_text): ## for each character in the paragraph\n",
    "            if character == \"µ\" : ## if the character is the special character\n",
    "\n",
    "                start_pos = int(i - list_special_char_seen)\n",
    "                list_special_char_seen += 1 ## add +1 to the sum of the special characters already seen\n",
    "            \n",
    "                start_pos_column.append(start_pos) ## append the list of start position"
   ]
  },
  {
   "cell_type": "code",
   "execution_count": null,
   "id": "e8cf4cae",
   "metadata": {},
   "outputs": [],
   "source": [
    "data = {'reference': reference_column, 'tagged_entity': tagged_entity_column, 'start_pos': start_pos_column, 'topostext_id': topostext_id_column}\n",
    "ToposText = pd.DataFrame(data)"
   ]
  }
 ],
 "metadata": {
  "kernelspec": {
   "display_name": "Python 3 (ipykernel)",
   "language": "python",
   "name": "python3"
  },
  "language_info": {
   "codemirror_mode": {
    "name": "ipython",
    "version": 3
   },
   "file_extension": ".py",
   "mimetype": "text/x-python",
   "name": "python",
   "nbconvert_exporter": "python",
   "pygments_lexer": "ipython3",
   "version": "3.11.4"
  }
 },
 "nbformat": 4,
 "nbformat_minor": 5
}

{
 "cells": [
  {
   "cell_type": "code",
   "execution_count": null,
   "id": "9fa8c795",
   "metadata": {},
   "outputs": [],
   "source": [
    "import pandas as pd\n",
    "from bs4 import BeautifulSoup"
   ]
  },
  {
   "cell_type": "code",
   "execution_count": null,
   "id": "32053ff2",
   "metadata": {
    "scrolled": true
   },
   "outputs": [],
   "source": [
    "pip install flair"
   ]
  },
  {
   "cell_type": "code",
   "execution_count": null,
   "id": "bdaa2748",
   "metadata": {},
   "outputs": [],
   "source": [
    "from flair.data import Sentence\n",
    "from flair.nn import Classifier\n",
    "from flair.models import SequenceTagger"
   ]
  },
  {
   "cell_type": "code",
   "execution_count": null,
   "id": "46cc8dff",
   "metadata": {},
   "outputs": [],
   "source": [
    "tagger = Classifier.load('ner-large')"
   ]
  },
  {
   "cell_type": "code",
   "execution_count": null,
   "id": "d99e67dd",
   "metadata": {},
   "outputs": [],
   "source": [
    "soup1_37 = BeautifulSoup(open(\"/Users/laurasoffiantini/Downloads/E265PlinyNaturalHistory.html\", encoding=\"utf-8\"), \"html.parser\")"
   ]
  },
  {
   "cell_type": "code",
   "execution_count": null,
   "id": "995f4813",
   "metadata": {},
   "outputs": [],
   "source": [
    "html1_37 = soup1_37.find_all('html')"
   ]
  },
  {
   "cell_type": "code",
   "execution_count": null,
   "id": "3aeff1d0",
   "metadata": {},
   "outputs": [],
   "source": [
    "reference_column = []\n",
    "index_column = []\n",
    "token_column = []\n",
    "start_pos_column = []\n",
    "flair_ner_column = []"
   ]
  },
  {
   "cell_type": "code",
   "execution_count": null,
   "id": "b89c5e4a",
   "metadata": {
    "scrolled": true
   },
   "outputs": [],
   "source": [
    "for html in html1_37:\n",
    "    \n",
    "    paragraphs = html.find_all(\"p\")\n",
    "    \n",
    "    for paragraph in paragraphs:\n",
    "        \n",
    "        p_tag_id = paragraph.get(\"id\")\n",
    "        print(p_tag_id)\n",
    "        \n",
    "        text = paragraph.get_text()\n",
    "        sentence = Sentence(text)\n",
    "        tagger.predict(sentence)\n",
    "        \n",
    "        reference_column_temp = []\n",
    "        index_column_temp = []\n",
    "        token_column_temp = []\n",
    "        start_pos_column_temp = []\n",
    "        flair_ner_column_temp = []\n",
    "        \n",
    "        for index, token in enumerate(sentence):\n",
    "            \n",
    "            token_text = token.text\n",
    "            start_pos = token.start_position\n",
    "            \n",
    "            reference_column_temp.append(p_tag_id)\n",
    "            index_column_temp.append(index)\n",
    "            token_column_temp.append(token_text)\n",
    "            start_pos_column_temp.append(start_pos)\n",
    "            flair_ner_column_temp.append('O')\n",
    "        \n",
    "        for entity in sentence.get_spans('ner'):\n",
    "            \n",
    "            entity_label = entity.labels[0].value\n",
    "            \n",
    "            if str(entity_label) == 'LOC':\n",
    "                \n",
    "                for i, tok in enumerate(entity):\n",
    "                    \n",
    "                    start_pos_tok = tok.start_position\n",
    "                    \n",
    "                    if i == 0:\n",
    "                        tok_label = 'B-'+str(entity_label)\n",
    "                    else :\n",
    "                        tok_label = 'I-'+str(entity_label)\n",
    "                    \n",
    "                    for x,y in enumerate(start_pos_column_temp):\n",
    "                        \n",
    "                        if int(y) == int(start_pos_tok):\n",
    "                            flair_ner_column_temp[x] = tok_label\n",
    "                            \n",
    "        reference_column.extend(reference_column_temp)\n",
    "        index_column.extend(index_column_temp)\n",
    "        token_column.extend(token_column_temp)\n",
    "        start_pos_column.extend(start_pos_column_temp)\n",
    "        flair_ner_column.extend(flair_ner_column_temp)                 "
   ]
  },
  {
   "cell_type": "code",
   "execution_count": null,
   "id": "16eb0ec0",
   "metadata": {},
   "outputs": [],
   "source": [
    "data = {'reference' : reference_column, 'index' : index_column, 'token' : token_column, 'start_pos' : start_pos_column, 'flair_ner' : flair_ner_column}"
   ]
  },
  {
   "cell_type": "code",
   "execution_count": null,
   "id": "91148782",
   "metadata": {},
   "outputs": [],
   "source": [
    "flair_NH = pd.DataFrame(data)"
   ]
  }
 ],
 "metadata": {
  "kernelspec": {
   "display_name": "Python 3 (ipykernel)",
   "language": "python",
   "name": "python3"
  },
  "language_info": {
   "codemirror_mode": {
    "name": "ipython",
    "version": 3
   },
   "file_extension": ".py",
   "mimetype": "text/x-python",
   "name": "python",
   "nbconvert_exporter": "python",
   "pygments_lexer": "ipython3",
   "version": "3.11.4"
  }
 },
 "nbformat": 4,
 "nbformat_minor": 5
}
